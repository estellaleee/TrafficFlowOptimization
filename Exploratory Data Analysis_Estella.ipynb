{
 "cells": [
  {
   "cell_type": "markdown",
   "metadata": {},
   "source": [
    "# Exploratory Data Analysis"
   ]
  },
  {
   "cell_type": "markdown",
   "metadata": {},
   "source": [
    "## Global\n",
    "\n",
    "在Global里面导packages和define一些常用的variable\n",
    "\n",
    "然后在各自的section里面尝试EDA\n",
    "\n",
    "这样可以统一命名，希望不会有merge conflict\n",
    "\n",
    "另外, [nbdime](https://nbdime.readthedocs.io/en/latest/index.html)看起来像是一个可以帮助解决merge conflict的东西，可以试一试\n",
    "\n",
    "General [merge conflict solution](http://allendowney.github.io/amgit/conflict.html)"
   ]
  },
  {
   "cell_type": "code",
   "execution_count": 1,
   "metadata": {},
   "outputs": [],
   "source": [
    "import pandas as pd\n",
    "import numpy as np\n",
    "import matplotlib.pyplot as plt\n",
    "import seaborn as sns\n",
    "\n",
    "%matplotlib inline"
   ]
  },
  {
   "cell_type": "code",
   "execution_count": 2,
   "metadata": {},
   "outputs": [
    {
     "name": "stdout",
     "output_type": "stream",
     "text": [
      "links (table 3).csv                volume(table 6)_training.csv\r\n",
      "routes (table 4).csv               weather (table 7)_training.csv\r\n",
      "trajectories(table 5)_training.csv\r\n"
     ]
    }
   ],
   "source": [
    "!ls dataSets/training"
   ]
  },
  {
   "cell_type": "code",
   "execution_count": 93,
   "metadata": {},
   "outputs": [],
   "source": [
    "training_path1 = \"dataSets/training/\"\n",
    "links = pd.read_csv(training_path1+'links (table 3).csv')\n",
    "volume = pd.read_csv(training_path1+'volume(table 6)_training.csv')\n",
    "routes = pd.read_csv(training_path1+'routes (table 4).csv')\n",
    "weather = pd.read_csv(training_path1+'weather (table 7)_training.csv')\n",
    "trajectories = pd.read_csv(training_path1+'trajectories(table 5)_training.csv')"
   ]
  },
  {
   "cell_type": "markdown",
   "metadata": {},
   "source": [
    "## Muci's Section"
   ]
  },
  {
   "cell_type": "code",
   "execution_count": 17,
   "metadata": {},
   "outputs": [
    {
     "name": "stdout",
     "output_type": "stream",
     "text": [
      "(24, 7)\n",
      "<class 'pandas.core.frame.DataFrame'>\n",
      "RangeIndex: 24 entries, 0 to 23\n",
      "Data columns (total 7 columns):\n",
      "link_id       24 non-null int64\n",
      "length        24 non-null int64\n",
      "width         24 non-null int64\n",
      "lanes         24 non-null int64\n",
      "in_top        21 non-null object\n",
      "out_top       21 non-null object\n",
      "lane_width    24 non-null int64\n",
      "dtypes: int64(5), object(2)\n",
      "memory usage: 1.4+ KB\n",
      "None\n"
     ]
    },
    {
     "data": {
      "text/html": [
       "<div>\n",
       "<style scoped>\n",
       "    .dataframe tbody tr th:only-of-type {\n",
       "        vertical-align: middle;\n",
       "    }\n",
       "\n",
       "    .dataframe tbody tr th {\n",
       "        vertical-align: top;\n",
       "    }\n",
       "\n",
       "    .dataframe thead th {\n",
       "        text-align: right;\n",
       "    }\n",
       "</style>\n",
       "<table border=\"1\" class=\"dataframe\">\n",
       "  <thead>\n",
       "    <tr style=\"text-align: right;\">\n",
       "      <th></th>\n",
       "      <th>link_id</th>\n",
       "      <th>length</th>\n",
       "      <th>width</th>\n",
       "      <th>lanes</th>\n",
       "      <th>in_top</th>\n",
       "      <th>out_top</th>\n",
       "      <th>lane_width</th>\n",
       "    </tr>\n",
       "  </thead>\n",
       "  <tbody>\n",
       "    <tr>\n",
       "      <th>0</th>\n",
       "      <td>100</td>\n",
       "      <td>58</td>\n",
       "      <td>3</td>\n",
       "      <td>1</td>\n",
       "      <td>105</td>\n",
       "      <td>111</td>\n",
       "      <td>3</td>\n",
       "    </tr>\n",
       "    <tr>\n",
       "      <th>1</th>\n",
       "      <td>101</td>\n",
       "      <td>84</td>\n",
       "      <td>3</td>\n",
       "      <td>1</td>\n",
       "      <td>116</td>\n",
       "      <td>121</td>\n",
       "      <td>3</td>\n",
       "    </tr>\n",
       "    <tr>\n",
       "      <th>2</th>\n",
       "      <td>102</td>\n",
       "      <td>131</td>\n",
       "      <td>9</td>\n",
       "      <td>3</td>\n",
       "      <td>115</td>\n",
       "      <td>109</td>\n",
       "      <td>3</td>\n",
       "    </tr>\n",
       "    <tr>\n",
       "      <th>3</th>\n",
       "      <td>103</td>\n",
       "      <td>23</td>\n",
       "      <td>12</td>\n",
       "      <td>4</td>\n",
       "      <td>111</td>\n",
       "      <td>122,116</td>\n",
       "      <td>3</td>\n",
       "    </tr>\n",
       "    <tr>\n",
       "      <th>4</th>\n",
       "      <td>104</td>\n",
       "      <td>293</td>\n",
       "      <td>9</td>\n",
       "      <td>3</td>\n",
       "      <td>109</td>\n",
       "      <td>112</td>\n",
       "      <td>3</td>\n",
       "    </tr>\n",
       "  </tbody>\n",
       "</table>\n",
       "</div>"
      ],
      "text/plain": [
       "   link_id  length  width  lanes in_top  out_top  lane_width\n",
       "0      100      58      3      1    105      111           3\n",
       "1      101      84      3      1    116      121           3\n",
       "2      102     131      9      3    115      109           3\n",
       "3      103      23     12      4    111  122,116           3\n",
       "4      104     293      9      3    109      112           3"
      ]
     },
     "execution_count": 17,
     "metadata": {},
     "output_type": "execute_result"
    }
   ],
   "source": [
    "training_path1 = \"dataSets/training/\"\n",
    "links = pd.read_csv(training_path1+'links (table 3).csv')\n",
    "print(links.shape)\n",
    "print(links.info())\n",
    "links.head()"
   ]
  },
  {
   "cell_type": "code",
   "execution_count": 18,
   "metadata": {},
   "outputs": [
    {
     "name": "stdout",
     "output_type": "stream",
     "text": [
      "(543699, 6)\n",
      "<class 'pandas.core.frame.DataFrame'>\n",
      "RangeIndex: 543699 entries, 0 to 543698\n",
      "Data columns (total 6 columns):\n",
      "time             543699 non-null object\n",
      "tollgate_id      543699 non-null int64\n",
      "direction        543699 non-null int64\n",
      "vehicle_model    543699 non-null int64\n",
      "has_etc          543699 non-null int64\n",
      "vehicle_type     212710 non-null float64\n",
      "dtypes: float64(1), int64(4), object(1)\n",
      "memory usage: 24.9+ MB\n",
      "None\n"
     ]
    },
    {
     "data": {
      "text/html": [
       "<div>\n",
       "<style scoped>\n",
       "    .dataframe tbody tr th:only-of-type {\n",
       "        vertical-align: middle;\n",
       "    }\n",
       "\n",
       "    .dataframe tbody tr th {\n",
       "        vertical-align: top;\n",
       "    }\n",
       "\n",
       "    .dataframe thead th {\n",
       "        text-align: right;\n",
       "    }\n",
       "</style>\n",
       "<table border=\"1\" class=\"dataframe\">\n",
       "  <thead>\n",
       "    <tr style=\"text-align: right;\">\n",
       "      <th></th>\n",
       "      <th>time</th>\n",
       "      <th>tollgate_id</th>\n",
       "      <th>direction</th>\n",
       "      <th>vehicle_model</th>\n",
       "      <th>has_etc</th>\n",
       "      <th>vehicle_type</th>\n",
       "    </tr>\n",
       "  </thead>\n",
       "  <tbody>\n",
       "    <tr>\n",
       "      <th>0</th>\n",
       "      <td>2016-09-19 23:09:25</td>\n",
       "      <td>2</td>\n",
       "      <td>0</td>\n",
       "      <td>1</td>\n",
       "      <td>0</td>\n",
       "      <td>NaN</td>\n",
       "    </tr>\n",
       "    <tr>\n",
       "      <th>1</th>\n",
       "      <td>2016-09-19 23:11:53</td>\n",
       "      <td>2</td>\n",
       "      <td>0</td>\n",
       "      <td>1</td>\n",
       "      <td>0</td>\n",
       "      <td>NaN</td>\n",
       "    </tr>\n",
       "    <tr>\n",
       "      <th>2</th>\n",
       "      <td>2016-09-19 23:13:54</td>\n",
       "      <td>2</td>\n",
       "      <td>0</td>\n",
       "      <td>1</td>\n",
       "      <td>0</td>\n",
       "      <td>NaN</td>\n",
       "    </tr>\n",
       "    <tr>\n",
       "      <th>3</th>\n",
       "      <td>2016-09-19 23:17:48</td>\n",
       "      <td>1</td>\n",
       "      <td>0</td>\n",
       "      <td>1</td>\n",
       "      <td>1</td>\n",
       "      <td>NaN</td>\n",
       "    </tr>\n",
       "    <tr>\n",
       "      <th>4</th>\n",
       "      <td>2016-09-19 23:16:07</td>\n",
       "      <td>2</td>\n",
       "      <td>0</td>\n",
       "      <td>1</td>\n",
       "      <td>0</td>\n",
       "      <td>NaN</td>\n",
       "    </tr>\n",
       "  </tbody>\n",
       "</table>\n",
       "</div>"
      ],
      "text/plain": [
       "                  time  tollgate_id  direction  vehicle_model  has_etc  \\\n",
       "0  2016-09-19 23:09:25            2          0              1        0   \n",
       "1  2016-09-19 23:11:53            2          0              1        0   \n",
       "2  2016-09-19 23:13:54            2          0              1        0   \n",
       "3  2016-09-19 23:17:48            1          0              1        1   \n",
       "4  2016-09-19 23:16:07            2          0              1        0   \n",
       "\n",
       "   vehicle_type  \n",
       "0           NaN  \n",
       "1           NaN  \n",
       "2           NaN  \n",
       "3           NaN  \n",
       "4           NaN  "
      ]
     },
     "execution_count": 18,
     "metadata": {},
     "output_type": "execute_result"
    }
   ],
   "source": [
    "volume = pd.read_csv(training_path1+'volume(table 6)_training.csv')\n",
    "print(volume.shape)\n",
    "print(volume.info())\n",
    "volume.head()"
   ]
  },
  {
   "cell_type": "code",
   "execution_count": 19,
   "metadata": {},
   "outputs": [
    {
     "name": "stdout",
     "output_type": "stream",
     "text": [
      "(6, 3)\n",
      "<class 'pandas.core.frame.DataFrame'>\n",
      "RangeIndex: 6 entries, 0 to 5\n",
      "Data columns (total 3 columns):\n",
      "intersection_id    6 non-null object\n",
      "tollgate_id        6 non-null int64\n",
      "link_seq           6 non-null object\n",
      "dtypes: int64(1), object(2)\n",
      "memory usage: 224.0+ bytes\n",
      "None\n"
     ]
    },
    {
     "data": {
      "text/html": [
       "<div>\n",
       "<style scoped>\n",
       "    .dataframe tbody tr th:only-of-type {\n",
       "        vertical-align: middle;\n",
       "    }\n",
       "\n",
       "    .dataframe tbody tr th {\n",
       "        vertical-align: top;\n",
       "    }\n",
       "\n",
       "    .dataframe thead th {\n",
       "        text-align: right;\n",
       "    }\n",
       "</style>\n",
       "<table border=\"1\" class=\"dataframe\">\n",
       "  <thead>\n",
       "    <tr style=\"text-align: right;\">\n",
       "      <th></th>\n",
       "      <th>intersection_id</th>\n",
       "      <th>tollgate_id</th>\n",
       "      <th>link_seq</th>\n",
       "    </tr>\n",
       "  </thead>\n",
       "  <tbody>\n",
       "    <tr>\n",
       "      <th>0</th>\n",
       "      <td>A</td>\n",
       "      <td>2</td>\n",
       "      <td>110,123,107,108,120,117</td>\n",
       "    </tr>\n",
       "    <tr>\n",
       "      <th>1</th>\n",
       "      <td>A</td>\n",
       "      <td>3</td>\n",
       "      <td>110,123,107,108,119,114,118,122</td>\n",
       "    </tr>\n",
       "    <tr>\n",
       "      <th>2</th>\n",
       "      <td>B</td>\n",
       "      <td>1</td>\n",
       "      <td>105,100,111,103,116,101,121,106,113</td>\n",
       "    </tr>\n",
       "    <tr>\n",
       "      <th>3</th>\n",
       "      <td>B</td>\n",
       "      <td>3</td>\n",
       "      <td>105,100,111,103,122</td>\n",
       "    </tr>\n",
       "    <tr>\n",
       "      <th>4</th>\n",
       "      <td>C</td>\n",
       "      <td>1</td>\n",
       "      <td>115,102,109,104,112,111,103,116,101,121,106,113</td>\n",
       "    </tr>\n",
       "  </tbody>\n",
       "</table>\n",
       "</div>"
      ],
      "text/plain": [
       "  intersection_id  tollgate_id  \\\n",
       "0               A            2   \n",
       "1               A            3   \n",
       "2               B            1   \n",
       "3               B            3   \n",
       "4               C            1   \n",
       "\n",
       "                                          link_seq  \n",
       "0                          110,123,107,108,120,117  \n",
       "1                  110,123,107,108,119,114,118,122  \n",
       "2              105,100,111,103,116,101,121,106,113  \n",
       "3                              105,100,111,103,122  \n",
       "4  115,102,109,104,112,111,103,116,101,121,106,113  "
      ]
     },
     "execution_count": 19,
     "metadata": {},
     "output_type": "execute_result"
    }
   ],
   "source": [
    "routes = pd.read_csv(training_path1+'routes (table 4).csv')\n",
    "print(routes.shape)\n",
    "print(routes.info())\n",
    "routes.head()"
   ]
  },
  {
   "cell_type": "code",
   "execution_count": 20,
   "metadata": {},
   "outputs": [
    {
     "name": "stdout",
     "output_type": "stream",
     "text": [
      "(782, 9)\n",
      "<class 'pandas.core.frame.DataFrame'>\n",
      "RangeIndex: 782 entries, 0 to 781\n",
      "Data columns (total 9 columns):\n",
      "date              782 non-null object\n",
      "hour              782 non-null int64\n",
      "pressure          782 non-null float64\n",
      "sea_pressure      782 non-null float64\n",
      "wind_direction    782 non-null float64\n",
      "wind_speed        782 non-null float64\n",
      "temperature       782 non-null float64\n",
      "rel_humidity      782 non-null float64\n",
      "precipitation     782 non-null float64\n",
      "dtypes: float64(7), int64(1), object(1)\n",
      "memory usage: 55.1+ KB\n",
      "None\n"
     ]
    },
    {
     "data": {
      "text/html": [
       "<div>\n",
       "<style scoped>\n",
       "    .dataframe tbody tr th:only-of-type {\n",
       "        vertical-align: middle;\n",
       "    }\n",
       "\n",
       "    .dataframe tbody tr th {\n",
       "        vertical-align: top;\n",
       "    }\n",
       "\n",
       "    .dataframe thead th {\n",
       "        text-align: right;\n",
       "    }\n",
       "</style>\n",
       "<table border=\"1\" class=\"dataframe\">\n",
       "  <thead>\n",
       "    <tr style=\"text-align: right;\">\n",
       "      <th></th>\n",
       "      <th>date</th>\n",
       "      <th>hour</th>\n",
       "      <th>pressure</th>\n",
       "      <th>sea_pressure</th>\n",
       "      <th>wind_direction</th>\n",
       "      <th>wind_speed</th>\n",
       "      <th>temperature</th>\n",
       "      <th>rel_humidity</th>\n",
       "      <th>precipitation</th>\n",
       "    </tr>\n",
       "  </thead>\n",
       "  <tbody>\n",
       "    <tr>\n",
       "      <th>0</th>\n",
       "      <td>2016-07-01</td>\n",
       "      <td>0</td>\n",
       "      <td>1000.4</td>\n",
       "      <td>1005.3</td>\n",
       "      <td>225.0</td>\n",
       "      <td>2.1</td>\n",
       "      <td>26.4</td>\n",
       "      <td>94.0</td>\n",
       "      <td>0.0</td>\n",
       "    </tr>\n",
       "    <tr>\n",
       "      <th>1</th>\n",
       "      <td>2016-07-01</td>\n",
       "      <td>3</td>\n",
       "      <td>1000.5</td>\n",
       "      <td>1005.3</td>\n",
       "      <td>187.0</td>\n",
       "      <td>2.7</td>\n",
       "      <td>29.0</td>\n",
       "      <td>76.0</td>\n",
       "      <td>0.0</td>\n",
       "    </tr>\n",
       "    <tr>\n",
       "      <th>2</th>\n",
       "      <td>2016-07-01</td>\n",
       "      <td>6</td>\n",
       "      <td>998.9</td>\n",
       "      <td>1003.7</td>\n",
       "      <td>212.0</td>\n",
       "      <td>2.9</td>\n",
       "      <td>31.7</td>\n",
       "      <td>67.0</td>\n",
       "      <td>0.0</td>\n",
       "    </tr>\n",
       "    <tr>\n",
       "      <th>3</th>\n",
       "      <td>2016-07-01</td>\n",
       "      <td>9</td>\n",
       "      <td>998.7</td>\n",
       "      <td>1003.5</td>\n",
       "      <td>244.0</td>\n",
       "      <td>2.7</td>\n",
       "      <td>31.6</td>\n",
       "      <td>59.0</td>\n",
       "      <td>0.0</td>\n",
       "    </tr>\n",
       "    <tr>\n",
       "      <th>4</th>\n",
       "      <td>2016-07-01</td>\n",
       "      <td>12</td>\n",
       "      <td>999.7</td>\n",
       "      <td>1004.5</td>\n",
       "      <td>222.0</td>\n",
       "      <td>1.3</td>\n",
       "      <td>29.9</td>\n",
       "      <td>68.0</td>\n",
       "      <td>0.0</td>\n",
       "    </tr>\n",
       "  </tbody>\n",
       "</table>\n",
       "</div>"
      ],
      "text/plain": [
       "         date  hour  pressure  sea_pressure  wind_direction  wind_speed  \\\n",
       "0  2016-07-01     0    1000.4        1005.3           225.0         2.1   \n",
       "1  2016-07-01     3    1000.5        1005.3           187.0         2.7   \n",
       "2  2016-07-01     6     998.9        1003.7           212.0         2.9   \n",
       "3  2016-07-01     9     998.7        1003.5           244.0         2.7   \n",
       "4  2016-07-01    12     999.7        1004.5           222.0         1.3   \n",
       "\n",
       "   temperature  rel_humidity  precipitation  \n",
       "0         26.4          94.0            0.0  \n",
       "1         29.0          76.0            0.0  \n",
       "2         31.7          67.0            0.0  \n",
       "3         31.6          59.0            0.0  \n",
       "4         29.9          68.0            0.0  "
      ]
     },
     "execution_count": 20,
     "metadata": {},
     "output_type": "execute_result"
    }
   ],
   "source": [
    "weather = pd.read_csv(training_path1+'weather (table 7)_training.csv')\n",
    "print(weather.shape)\n",
    "print(weather.info())\n",
    "weather.head()"
   ]
  },
  {
   "cell_type": "code",
   "execution_count": 21,
   "metadata": {},
   "outputs": [
    {
     "name": "stdout",
     "output_type": "stream",
     "text": [
      "(109244, 6)\n",
      "<class 'pandas.core.frame.DataFrame'>\n",
      "RangeIndex: 109244 entries, 0 to 109243\n",
      "Data columns (total 6 columns):\n",
      "intersection_id    109244 non-null object\n",
      "tollgate_id        109244 non-null int64\n",
      "vehicle_id         109244 non-null int64\n",
      "starting_time      109244 non-null object\n",
      "travel_seq         109244 non-null object\n",
      "travel_time        109244 non-null float64\n",
      "dtypes: float64(1), int64(2), object(3)\n",
      "memory usage: 5.0+ MB\n",
      "None\n"
     ]
    },
    {
     "data": {
      "text/html": [
       "<div>\n",
       "<style scoped>\n",
       "    .dataframe tbody tr th:only-of-type {\n",
       "        vertical-align: middle;\n",
       "    }\n",
       "\n",
       "    .dataframe tbody tr th {\n",
       "        vertical-align: top;\n",
       "    }\n",
       "\n",
       "    .dataframe thead th {\n",
       "        text-align: right;\n",
       "    }\n",
       "</style>\n",
       "<table border=\"1\" class=\"dataframe\">\n",
       "  <thead>\n",
       "    <tr style=\"text-align: right;\">\n",
       "      <th></th>\n",
       "      <th>intersection_id</th>\n",
       "      <th>tollgate_id</th>\n",
       "      <th>vehicle_id</th>\n",
       "      <th>starting_time</th>\n",
       "      <th>travel_seq</th>\n",
       "      <th>travel_time</th>\n",
       "    </tr>\n",
       "  </thead>\n",
       "  <tbody>\n",
       "    <tr>\n",
       "      <th>0</th>\n",
       "      <td>B</td>\n",
       "      <td>3</td>\n",
       "      <td>1065642</td>\n",
       "      <td>2016-07-19 00:14:24</td>\n",
       "      <td>105#2016-07-19 00:14:24#9.56;100#2016-07-19 00...</td>\n",
       "      <td>70.85</td>\n",
       "    </tr>\n",
       "    <tr>\n",
       "      <th>1</th>\n",
       "      <td>B</td>\n",
       "      <td>3</td>\n",
       "      <td>1047198</td>\n",
       "      <td>2016-07-19 00:35:56</td>\n",
       "      <td>105#2016-07-19 00:35:56#11.58;100#2016-07-19 0...</td>\n",
       "      <td>148.79</td>\n",
       "    </tr>\n",
       "    <tr>\n",
       "      <th>2</th>\n",
       "      <td>B</td>\n",
       "      <td>1</td>\n",
       "      <td>1086390</td>\n",
       "      <td>2016-07-19 00:37:15</td>\n",
       "      <td>105#2016-07-19 00:37:15#5.26;100#2016-07-19 00...</td>\n",
       "      <td>79.76</td>\n",
       "    </tr>\n",
       "    <tr>\n",
       "      <th>3</th>\n",
       "      <td>A</td>\n",
       "      <td>2</td>\n",
       "      <td>1071181</td>\n",
       "      <td>2016-07-19 00:37:59</td>\n",
       "      <td>110#2016-07-19 00:37:59#13.74;123#2016-07-19 0...</td>\n",
       "      <td>58.05</td>\n",
       "    </tr>\n",
       "    <tr>\n",
       "      <th>4</th>\n",
       "      <td>B</td>\n",
       "      <td>1</td>\n",
       "      <td>1065807</td>\n",
       "      <td>2016-07-19 00:56:21</td>\n",
       "      <td>105#2016-07-19 00:56:21#16.08;100#2016-07-19 0...</td>\n",
       "      <td>137.98</td>\n",
       "    </tr>\n",
       "  </tbody>\n",
       "</table>\n",
       "</div>"
      ],
      "text/plain": [
       "  intersection_id  tollgate_id  vehicle_id        starting_time  \\\n",
       "0               B            3     1065642  2016-07-19 00:14:24   \n",
       "1               B            3     1047198  2016-07-19 00:35:56   \n",
       "2               B            1     1086390  2016-07-19 00:37:15   \n",
       "3               A            2     1071181  2016-07-19 00:37:59   \n",
       "4               B            1     1065807  2016-07-19 00:56:21   \n",
       "\n",
       "                                          travel_seq  travel_time  \n",
       "0  105#2016-07-19 00:14:24#9.56;100#2016-07-19 00...        70.85  \n",
       "1  105#2016-07-19 00:35:56#11.58;100#2016-07-19 0...       148.79  \n",
       "2  105#2016-07-19 00:37:15#5.26;100#2016-07-19 00...        79.76  \n",
       "3  110#2016-07-19 00:37:59#13.74;123#2016-07-19 0...        58.05  \n",
       "4  105#2016-07-19 00:56:21#16.08;100#2016-07-19 0...       137.98  "
      ]
     },
     "execution_count": 21,
     "metadata": {},
     "output_type": "execute_result"
    }
   ],
   "source": [
    "trajectories = pd.read_csv(training_path1+'trajectories(table 5)_training.csv')\n",
    "print(trajectories.shape)\n",
    "print(trajectories.info())\n",
    "trajectories.head()"
   ]
  },
  {
   "cell_type": "markdown",
   "metadata": {},
   "source": [
    "## Estella's Section"
   ]
  },
  {
   "cell_type": "code",
   "execution_count": 6,
   "metadata": {},
   "outputs": [
    {
     "data": {
      "text/html": [
       "<div>\n",
       "<style scoped>\n",
       "    .dataframe tbody tr th:only-of-type {\n",
       "        vertical-align: middle;\n",
       "    }\n",
       "\n",
       "    .dataframe tbody tr th {\n",
       "        vertical-align: top;\n",
       "    }\n",
       "\n",
       "    .dataframe thead th {\n",
       "        text-align: right;\n",
       "    }\n",
       "</style>\n",
       "<table border=\"1\" class=\"dataframe\">\n",
       "  <thead>\n",
       "    <tr style=\"text-align: right;\">\n",
       "      <th></th>\n",
       "      <th>link_id</th>\n",
       "      <th>length</th>\n",
       "      <th>width</th>\n",
       "      <th>lanes</th>\n",
       "      <th>in_top</th>\n",
       "      <th>out_top</th>\n",
       "      <th>lane_width</th>\n",
       "    </tr>\n",
       "  </thead>\n",
       "  <tbody>\n",
       "    <tr>\n",
       "      <th>0</th>\n",
       "      <td>100</td>\n",
       "      <td>58</td>\n",
       "      <td>3</td>\n",
       "      <td>1</td>\n",
       "      <td>105</td>\n",
       "      <td>111</td>\n",
       "      <td>3</td>\n",
       "    </tr>\n",
       "    <tr>\n",
       "      <th>1</th>\n",
       "      <td>101</td>\n",
       "      <td>84</td>\n",
       "      <td>3</td>\n",
       "      <td>1</td>\n",
       "      <td>116</td>\n",
       "      <td>121</td>\n",
       "      <td>3</td>\n",
       "    </tr>\n",
       "    <tr>\n",
       "      <th>2</th>\n",
       "      <td>102</td>\n",
       "      <td>131</td>\n",
       "      <td>9</td>\n",
       "      <td>3</td>\n",
       "      <td>115</td>\n",
       "      <td>109</td>\n",
       "      <td>3</td>\n",
       "    </tr>\n",
       "    <tr>\n",
       "      <th>3</th>\n",
       "      <td>103</td>\n",
       "      <td>23</td>\n",
       "      <td>12</td>\n",
       "      <td>4</td>\n",
       "      <td>111</td>\n",
       "      <td>122,116</td>\n",
       "      <td>3</td>\n",
       "    </tr>\n",
       "    <tr>\n",
       "      <th>4</th>\n",
       "      <td>104</td>\n",
       "      <td>293</td>\n",
       "      <td>9</td>\n",
       "      <td>3</td>\n",
       "      <td>109</td>\n",
       "      <td>112</td>\n",
       "      <td>3</td>\n",
       "    </tr>\n",
       "  </tbody>\n",
       "</table>\n",
       "</div>"
      ],
      "text/plain": [
       "   link_id  length  width  lanes in_top  out_top  lane_width\n",
       "0      100      58      3      1    105      111           3\n",
       "1      101      84      3      1    116      121           3\n",
       "2      102     131      9      3    115      109           3\n",
       "3      103      23     12      4    111  122,116           3\n",
       "4      104     293      9      3    109      112           3"
      ]
     },
     "execution_count": 6,
     "metadata": {},
     "output_type": "execute_result"
    }
   ],
   "source": [
    "links.head()"
   ]
  },
  {
   "cell_type": "code",
   "execution_count": 13,
   "metadata": {},
   "outputs": [
    {
     "data": {
      "text/plain": [
       "link_id       0\n",
       "length        0\n",
       "width         0\n",
       "lanes         0\n",
       "in_top        3\n",
       "out_top       3\n",
       "lane_width    0\n",
       "dtype: int64"
      ]
     },
     "execution_count": 13,
     "metadata": {},
     "output_type": "execute_result"
    }
   ],
   "source": [
    "links.isnull().sum()"
   ]
  },
  {
   "cell_type": "code",
   "execution_count": 18,
   "metadata": {},
   "outputs": [
    {
     "data": {
      "text/plain": [
       "(24, 7)"
      ]
     },
     "execution_count": 18,
     "metadata": {},
     "output_type": "execute_result"
    }
   ],
   "source": [
    "links.shape"
   ]
  },
  {
   "cell_type": "code",
   "execution_count": 7,
   "metadata": {},
   "outputs": [
    {
     "data": {
      "text/html": [
       "<div>\n",
       "<style scoped>\n",
       "    .dataframe tbody tr th:only-of-type {\n",
       "        vertical-align: middle;\n",
       "    }\n",
       "\n",
       "    .dataframe tbody tr th {\n",
       "        vertical-align: top;\n",
       "    }\n",
       "\n",
       "    .dataframe thead th {\n",
       "        text-align: right;\n",
       "    }\n",
       "</style>\n",
       "<table border=\"1\" class=\"dataframe\">\n",
       "  <thead>\n",
       "    <tr style=\"text-align: right;\">\n",
       "      <th></th>\n",
       "      <th>time</th>\n",
       "      <th>tollgate_id</th>\n",
       "      <th>direction</th>\n",
       "      <th>vehicle_model</th>\n",
       "      <th>has_etc</th>\n",
       "      <th>vehicle_type</th>\n",
       "    </tr>\n",
       "  </thead>\n",
       "  <tbody>\n",
       "    <tr>\n",
       "      <th>0</th>\n",
       "      <td>2016-09-19 23:09:25</td>\n",
       "      <td>2</td>\n",
       "      <td>0</td>\n",
       "      <td>1</td>\n",
       "      <td>0</td>\n",
       "      <td>NaN</td>\n",
       "    </tr>\n",
       "    <tr>\n",
       "      <th>1</th>\n",
       "      <td>2016-09-19 23:11:53</td>\n",
       "      <td>2</td>\n",
       "      <td>0</td>\n",
       "      <td>1</td>\n",
       "      <td>0</td>\n",
       "      <td>NaN</td>\n",
       "    </tr>\n",
       "    <tr>\n",
       "      <th>2</th>\n",
       "      <td>2016-09-19 23:13:54</td>\n",
       "      <td>2</td>\n",
       "      <td>0</td>\n",
       "      <td>1</td>\n",
       "      <td>0</td>\n",
       "      <td>NaN</td>\n",
       "    </tr>\n",
       "    <tr>\n",
       "      <th>3</th>\n",
       "      <td>2016-09-19 23:17:48</td>\n",
       "      <td>1</td>\n",
       "      <td>0</td>\n",
       "      <td>1</td>\n",
       "      <td>1</td>\n",
       "      <td>NaN</td>\n",
       "    </tr>\n",
       "    <tr>\n",
       "      <th>4</th>\n",
       "      <td>2016-09-19 23:16:07</td>\n",
       "      <td>2</td>\n",
       "      <td>0</td>\n",
       "      <td>1</td>\n",
       "      <td>0</td>\n",
       "      <td>NaN</td>\n",
       "    </tr>\n",
       "  </tbody>\n",
       "</table>\n",
       "</div>"
      ],
      "text/plain": [
       "                  time  tollgate_id  direction  vehicle_model  has_etc  \\\n",
       "0  2016-09-19 23:09:25            2          0              1        0   \n",
       "1  2016-09-19 23:11:53            2          0              1        0   \n",
       "2  2016-09-19 23:13:54            2          0              1        0   \n",
       "3  2016-09-19 23:17:48            1          0              1        1   \n",
       "4  2016-09-19 23:16:07            2          0              1        0   \n",
       "\n",
       "   vehicle_type  \n",
       "0           NaN  \n",
       "1           NaN  \n",
       "2           NaN  \n",
       "3           NaN  \n",
       "4           NaN  "
      ]
     },
     "execution_count": 7,
     "metadata": {},
     "output_type": "execute_result"
    }
   ],
   "source": [
    "volume.head()"
   ]
  },
  {
   "cell_type": "code",
   "execution_count": 14,
   "metadata": {},
   "outputs": [
    {
     "data": {
      "text/plain": [
       "time                  0\n",
       "tollgate_id           0\n",
       "direction             0\n",
       "vehicle_model         0\n",
       "has_etc               0\n",
       "vehicle_type     330989\n",
       "dtype: int64"
      ]
     },
     "execution_count": 14,
     "metadata": {},
     "output_type": "execute_result"
    }
   ],
   "source": [
    "volume.isnull().sum()"
   ]
  },
  {
   "cell_type": "code",
   "execution_count": 19,
   "metadata": {},
   "outputs": [
    {
     "data": {
      "text/plain": [
       "(543699, 6)"
      ]
     },
     "execution_count": 19,
     "metadata": {},
     "output_type": "execute_result"
    }
   ],
   "source": [
    "volume.shape"
   ]
  },
  {
   "cell_type": "code",
   "execution_count": 8,
   "metadata": {},
   "outputs": [
    {
     "data": {
      "text/html": [
       "<div>\n",
       "<style scoped>\n",
       "    .dataframe tbody tr th:only-of-type {\n",
       "        vertical-align: middle;\n",
       "    }\n",
       "\n",
       "    .dataframe tbody tr th {\n",
       "        vertical-align: top;\n",
       "    }\n",
       "\n",
       "    .dataframe thead th {\n",
       "        text-align: right;\n",
       "    }\n",
       "</style>\n",
       "<table border=\"1\" class=\"dataframe\">\n",
       "  <thead>\n",
       "    <tr style=\"text-align: right;\">\n",
       "      <th></th>\n",
       "      <th>intersection_id</th>\n",
       "      <th>tollgate_id</th>\n",
       "      <th>link_seq</th>\n",
       "    </tr>\n",
       "  </thead>\n",
       "  <tbody>\n",
       "    <tr>\n",
       "      <th>0</th>\n",
       "      <td>A</td>\n",
       "      <td>2</td>\n",
       "      <td>110,123,107,108,120,117</td>\n",
       "    </tr>\n",
       "    <tr>\n",
       "      <th>1</th>\n",
       "      <td>A</td>\n",
       "      <td>3</td>\n",
       "      <td>110,123,107,108,119,114,118,122</td>\n",
       "    </tr>\n",
       "    <tr>\n",
       "      <th>2</th>\n",
       "      <td>B</td>\n",
       "      <td>1</td>\n",
       "      <td>105,100,111,103,116,101,121,106,113</td>\n",
       "    </tr>\n",
       "    <tr>\n",
       "      <th>3</th>\n",
       "      <td>B</td>\n",
       "      <td>3</td>\n",
       "      <td>105,100,111,103,122</td>\n",
       "    </tr>\n",
       "    <tr>\n",
       "      <th>4</th>\n",
       "      <td>C</td>\n",
       "      <td>1</td>\n",
       "      <td>115,102,109,104,112,111,103,116,101,121,106,113</td>\n",
       "    </tr>\n",
       "  </tbody>\n",
       "</table>\n",
       "</div>"
      ],
      "text/plain": [
       "  intersection_id  tollgate_id  \\\n",
       "0               A            2   \n",
       "1               A            3   \n",
       "2               B            1   \n",
       "3               B            3   \n",
       "4               C            1   \n",
       "\n",
       "                                          link_seq  \n",
       "0                          110,123,107,108,120,117  \n",
       "1                  110,123,107,108,119,114,118,122  \n",
       "2              105,100,111,103,116,101,121,106,113  \n",
       "3                              105,100,111,103,122  \n",
       "4  115,102,109,104,112,111,103,116,101,121,106,113  "
      ]
     },
     "execution_count": 8,
     "metadata": {},
     "output_type": "execute_result"
    }
   ],
   "source": [
    "routes.head()"
   ]
  },
  {
   "cell_type": "code",
   "execution_count": 54,
   "metadata": {},
   "outputs": [
    {
     "data": {
      "text/plain": [
       "str"
      ]
     },
     "execution_count": 54,
     "metadata": {},
     "output_type": "execute_result"
    }
   ],
   "source": [
    "type(routes[\"tollgate_id\"][0])"
   ]
  },
  {
   "cell_type": "code",
   "execution_count": 53,
   "metadata": {},
   "outputs": [],
   "source": [
    "routes[\"tollgate_id\"] = routes[\"tollgate_id\"].astype(str)"
   ]
  },
  {
   "cell_type": "code",
   "execution_count": 15,
   "metadata": {},
   "outputs": [
    {
     "data": {
      "text/plain": [
       "intersection_id    0\n",
       "tollgate_id        0\n",
       "link_seq           0\n",
       "dtype: int64"
      ]
     },
     "execution_count": 15,
     "metadata": {},
     "output_type": "execute_result"
    }
   ],
   "source": [
    "routes.isnull().sum()"
   ]
  },
  {
   "cell_type": "code",
   "execution_count": 20,
   "metadata": {},
   "outputs": [
    {
     "data": {
      "text/plain": [
       "(6, 3)"
      ]
     },
     "execution_count": 20,
     "metadata": {},
     "output_type": "execute_result"
    }
   ],
   "source": [
    "routes.shape"
   ]
  },
  {
   "cell_type": "code",
   "execution_count": 9,
   "metadata": {},
   "outputs": [
    {
     "data": {
      "text/html": [
       "<div>\n",
       "<style scoped>\n",
       "    .dataframe tbody tr th:only-of-type {\n",
       "        vertical-align: middle;\n",
       "    }\n",
       "\n",
       "    .dataframe tbody tr th {\n",
       "        vertical-align: top;\n",
       "    }\n",
       "\n",
       "    .dataframe thead th {\n",
       "        text-align: right;\n",
       "    }\n",
       "</style>\n",
       "<table border=\"1\" class=\"dataframe\">\n",
       "  <thead>\n",
       "    <tr style=\"text-align: right;\">\n",
       "      <th></th>\n",
       "      <th>date</th>\n",
       "      <th>hour</th>\n",
       "      <th>pressure</th>\n",
       "      <th>sea_pressure</th>\n",
       "      <th>wind_direction</th>\n",
       "      <th>wind_speed</th>\n",
       "      <th>temperature</th>\n",
       "      <th>rel_humidity</th>\n",
       "      <th>precipitation</th>\n",
       "    </tr>\n",
       "  </thead>\n",
       "  <tbody>\n",
       "    <tr>\n",
       "      <th>0</th>\n",
       "      <td>2016-07-01</td>\n",
       "      <td>0</td>\n",
       "      <td>1000.4</td>\n",
       "      <td>1005.3</td>\n",
       "      <td>225.0</td>\n",
       "      <td>2.1</td>\n",
       "      <td>26.4</td>\n",
       "      <td>94.0</td>\n",
       "      <td>0.0</td>\n",
       "    </tr>\n",
       "    <tr>\n",
       "      <th>1</th>\n",
       "      <td>2016-07-01</td>\n",
       "      <td>3</td>\n",
       "      <td>1000.5</td>\n",
       "      <td>1005.3</td>\n",
       "      <td>187.0</td>\n",
       "      <td>2.7</td>\n",
       "      <td>29.0</td>\n",
       "      <td>76.0</td>\n",
       "      <td>0.0</td>\n",
       "    </tr>\n",
       "    <tr>\n",
       "      <th>2</th>\n",
       "      <td>2016-07-01</td>\n",
       "      <td>6</td>\n",
       "      <td>998.9</td>\n",
       "      <td>1003.7</td>\n",
       "      <td>212.0</td>\n",
       "      <td>2.9</td>\n",
       "      <td>31.7</td>\n",
       "      <td>67.0</td>\n",
       "      <td>0.0</td>\n",
       "    </tr>\n",
       "    <tr>\n",
       "      <th>3</th>\n",
       "      <td>2016-07-01</td>\n",
       "      <td>9</td>\n",
       "      <td>998.7</td>\n",
       "      <td>1003.5</td>\n",
       "      <td>244.0</td>\n",
       "      <td>2.7</td>\n",
       "      <td>31.6</td>\n",
       "      <td>59.0</td>\n",
       "      <td>0.0</td>\n",
       "    </tr>\n",
       "    <tr>\n",
       "      <th>4</th>\n",
       "      <td>2016-07-01</td>\n",
       "      <td>12</td>\n",
       "      <td>999.7</td>\n",
       "      <td>1004.5</td>\n",
       "      <td>222.0</td>\n",
       "      <td>1.3</td>\n",
       "      <td>29.9</td>\n",
       "      <td>68.0</td>\n",
       "      <td>0.0</td>\n",
       "    </tr>\n",
       "  </tbody>\n",
       "</table>\n",
       "</div>"
      ],
      "text/plain": [
       "         date  hour  pressure  sea_pressure  wind_direction  wind_speed  \\\n",
       "0  2016-07-01     0    1000.4        1005.3           225.0         2.1   \n",
       "1  2016-07-01     3    1000.5        1005.3           187.0         2.7   \n",
       "2  2016-07-01     6     998.9        1003.7           212.0         2.9   \n",
       "3  2016-07-01     9     998.7        1003.5           244.0         2.7   \n",
       "4  2016-07-01    12     999.7        1004.5           222.0         1.3   \n",
       "\n",
       "   temperature  rel_humidity  precipitation  \n",
       "0         26.4          94.0            0.0  \n",
       "1         29.0          76.0            0.0  \n",
       "2         31.7          67.0            0.0  \n",
       "3         31.6          59.0            0.0  \n",
       "4         29.9          68.0            0.0  "
      ]
     },
     "execution_count": 9,
     "metadata": {},
     "output_type": "execute_result"
    }
   ],
   "source": [
    "weather.head()"
   ]
  },
  {
   "cell_type": "code",
   "execution_count": 16,
   "metadata": {},
   "outputs": [
    {
     "data": {
      "text/plain": [
       "date              0\n",
       "hour              0\n",
       "pressure          0\n",
       "sea_pressure      0\n",
       "wind_direction    0\n",
       "wind_speed        0\n",
       "temperature       0\n",
       "rel_humidity      0\n",
       "precipitation     0\n",
       "dtype: int64"
      ]
     },
     "execution_count": 16,
     "metadata": {},
     "output_type": "execute_result"
    }
   ],
   "source": [
    "weather.isnull().sum()"
   ]
  },
  {
   "cell_type": "code",
   "execution_count": 21,
   "metadata": {},
   "outputs": [
    {
     "data": {
      "text/plain": [
       "(782, 9)"
      ]
     },
     "execution_count": 21,
     "metadata": {},
     "output_type": "execute_result"
    }
   ],
   "source": [
    "weather.shape"
   ]
  },
  {
   "cell_type": "code",
   "execution_count": 41,
   "metadata": {},
   "outputs": [
    {
     "data": {
      "text/html": [
       "<div>\n",
       "<style scoped>\n",
       "    .dataframe tbody tr th:only-of-type {\n",
       "        vertical-align: middle;\n",
       "    }\n",
       "\n",
       "    .dataframe tbody tr th {\n",
       "        vertical-align: top;\n",
       "    }\n",
       "\n",
       "    .dataframe thead th {\n",
       "        text-align: right;\n",
       "    }\n",
       "</style>\n",
       "<table border=\"1\" class=\"dataframe\">\n",
       "  <thead>\n",
       "    <tr style=\"text-align: right;\">\n",
       "      <th></th>\n",
       "      <th>intersection_id</th>\n",
       "      <th>tollgate_id</th>\n",
       "      <th>vehicle_id</th>\n",
       "      <th>starting_time</th>\n",
       "      <th>travel_seq</th>\n",
       "      <th>travel_time</th>\n",
       "    </tr>\n",
       "  </thead>\n",
       "  <tbody>\n",
       "    <tr>\n",
       "      <th>0</th>\n",
       "      <td>B</td>\n",
       "      <td>3</td>\n",
       "      <td>1065642</td>\n",
       "      <td>2016-07-19 00:14:24</td>\n",
       "      <td>105#2016-07-19 00:14:24#9.56;100#2016-07-19 00...</td>\n",
       "      <td>70.85</td>\n",
       "    </tr>\n",
       "    <tr>\n",
       "      <th>1</th>\n",
       "      <td>B</td>\n",
       "      <td>3</td>\n",
       "      <td>1047198</td>\n",
       "      <td>2016-07-19 00:35:56</td>\n",
       "      <td>105#2016-07-19 00:35:56#11.58;100#2016-07-19 0...</td>\n",
       "      <td>148.79</td>\n",
       "    </tr>\n",
       "    <tr>\n",
       "      <th>2</th>\n",
       "      <td>B</td>\n",
       "      <td>1</td>\n",
       "      <td>1086390</td>\n",
       "      <td>2016-07-19 00:37:15</td>\n",
       "      <td>105#2016-07-19 00:37:15#5.26;100#2016-07-19 00...</td>\n",
       "      <td>79.76</td>\n",
       "    </tr>\n",
       "    <tr>\n",
       "      <th>3</th>\n",
       "      <td>A</td>\n",
       "      <td>2</td>\n",
       "      <td>1071181</td>\n",
       "      <td>2016-07-19 00:37:59</td>\n",
       "      <td>110#2016-07-19 00:37:59#13.74;123#2016-07-19 0...</td>\n",
       "      <td>58.05</td>\n",
       "    </tr>\n",
       "    <tr>\n",
       "      <th>4</th>\n",
       "      <td>B</td>\n",
       "      <td>1</td>\n",
       "      <td>1065807</td>\n",
       "      <td>2016-07-19 00:56:21</td>\n",
       "      <td>105#2016-07-19 00:56:21#16.08;100#2016-07-19 0...</td>\n",
       "      <td>137.98</td>\n",
       "    </tr>\n",
       "  </tbody>\n",
       "</table>\n",
       "</div>"
      ],
      "text/plain": [
       "  intersection_id  tollgate_id  vehicle_id        starting_time  \\\n",
       "0               B            3     1065642  2016-07-19 00:14:24   \n",
       "1               B            3     1047198  2016-07-19 00:35:56   \n",
       "2               B            1     1086390  2016-07-19 00:37:15   \n",
       "3               A            2     1071181  2016-07-19 00:37:59   \n",
       "4               B            1     1065807  2016-07-19 00:56:21   \n",
       "\n",
       "                                          travel_seq  travel_time  \n",
       "0  105#2016-07-19 00:14:24#9.56;100#2016-07-19 00...        70.85  \n",
       "1  105#2016-07-19 00:35:56#11.58;100#2016-07-19 0...       148.79  \n",
       "2  105#2016-07-19 00:37:15#5.26;100#2016-07-19 00...        79.76  \n",
       "3  110#2016-07-19 00:37:59#13.74;123#2016-07-19 0...        58.05  \n",
       "4  105#2016-07-19 00:56:21#16.08;100#2016-07-19 0...       137.98  "
      ]
     },
     "execution_count": 41,
     "metadata": {},
     "output_type": "execute_result"
    }
   ],
   "source": [
    "trajectories.head()"
   ]
  },
  {
   "cell_type": "markdown",
   "metadata": {},
   "source": [
    "- travel_seq: link id, enter time, travel time"
   ]
  },
  {
   "cell_type": "code",
   "execution_count": 42,
   "metadata": {},
   "outputs": [
    {
     "data": {
      "text/plain": [
       "intersection_id    0\n",
       "tollgate_id        0\n",
       "vehicle_id         0\n",
       "starting_time      0\n",
       "travel_seq         0\n",
       "travel_time        0\n",
       "dtype: int64"
      ]
     },
     "execution_count": 42,
     "metadata": {},
     "output_type": "execute_result"
    }
   ],
   "source": [
    "trajectories.isnull().sum()"
   ]
  },
  {
   "cell_type": "code",
   "execution_count": 43,
   "metadata": {},
   "outputs": [
    {
     "data": {
      "text/plain": [
       "(109244, 6)"
      ]
     },
     "execution_count": 43,
     "metadata": {},
     "output_type": "execute_result"
    }
   ],
   "source": [
    "trajectories.shape"
   ]
  },
  {
   "cell_type": "code",
   "execution_count": 36,
   "metadata": {
    "scrolled": true
   },
   "outputs": [
    {
     "data": {
      "text/plain": [
       "'105#2016-07-19 00:14:24#9.56;100#2016-07-19 00:14:34#6.75;111#2016-07-19 00:14:41#13.00;103#2016-07-19 00:14:54#7.47;122#2016-07-19 00:15:02#32.85'"
      ]
     },
     "execution_count": 36,
     "metadata": {},
     "output_type": "execute_result"
    }
   ],
   "source": [
    "trajectories[\"travel_seq\"][0]"
   ]
  },
  {
   "cell_type": "code",
   "execution_count": 30,
   "metadata": {},
   "outputs": [],
   "source": [
    "trajectories[\"link_id\"] = trajectories[\"travel_seq\"].str[:3]"
   ]
  },
  {
   "cell_type": "code",
   "execution_count": 31,
   "metadata": {
    "scrolled": true
   },
   "outputs": [
    {
     "data": {
      "text/plain": [
       "0         2016-07-19 00:14:24\n",
       "1         2016-07-19 00:35:56\n",
       "2         2016-07-19 00:37:15\n",
       "3         2016-07-19 00:37:59\n",
       "4         2016-07-19 00:56:21\n",
       "5         2016-07-19 00:56:31\n",
       "6         2016-07-19 01:26:03\n",
       "7         2016-07-19 01:36:04\n",
       "8         2016-07-19 01:36:20\n",
       "9         2016-07-19 01:36:28\n",
       "10        2016-07-19 01:38:48\n",
       "11        2016-07-19 01:40:40\n",
       "12        2016-07-19 01:42:22\n",
       "13        2016-07-19 01:44:57\n",
       "14        2016-07-19 01:46:36\n",
       "15        2016-07-19 01:48:40\n",
       "16        2016-07-19 01:48:47\n",
       "17        2016-07-19 01:52:08\n",
       "18        2016-07-19 02:10:44\n",
       "19        2016-07-19 02:20:16\n",
       "20        2016-07-19 02:36:20\n",
       "21        2016-07-19 02:38:10\n",
       "22        2016-07-19 02:42:15\n",
       "23        2016-07-19 02:42:22\n",
       "24        2016-07-19 02:42:24\n",
       "25        2016-07-19 02:44:00\n",
       "26        2016-07-19 02:58:39\n",
       "27        2016-07-19 03:12:37\n",
       "28        2016-07-19 03:27:36\n",
       "29        2016-07-19 03:36:02\n",
       "                 ...         \n",
       "109214    2016-10-17 22:35:53\n",
       "109215    2016-10-17 22:42:49\n",
       "109216    2016-10-17 22:45:00\n",
       "109217    2016-10-17 22:50:11\n",
       "109218    2016-10-17 22:50:23\n",
       "109219    2016-10-17 22:51:12\n",
       "109220    2016-10-17 22:56:18\n",
       "109221    2016-10-17 22:57:13\n",
       "109222    2016-10-17 23:06:06\n",
       "109223    2016-10-17 23:07:24\n",
       "109224    2016-10-17 23:08:13\n",
       "109225    2016-10-17 23:08:18\n",
       "109226    2016-10-17 23:10:45\n",
       "109227    2016-10-17 23:13:29\n",
       "109228    2016-10-17 23:14:16\n",
       "109229    2016-10-17 23:14:17\n",
       "109230    2016-10-17 23:20:17\n",
       "109231    2016-10-17 23:21:50\n",
       "109232    2016-10-17 23:22:08\n",
       "109233    2016-10-17 23:22:19\n",
       "109234    2016-10-17 23:29:43\n",
       "109235    2016-10-17 23:30:10\n",
       "109236    2016-10-17 23:30:43\n",
       "109237    2016-10-17 23:35:56\n",
       "109238    2016-10-17 23:37:31\n",
       "109239    2016-10-17 23:38:52\n",
       "109240    2016-10-17 23:40:19\n",
       "109241    2016-10-17 23:52:18\n",
       "109242    2016-10-17 23:53:57\n",
       "109243    2016-10-17 23:54:35\n",
       "Name: travel_seq, Length: 109244, dtype: object"
      ]
     },
     "execution_count": 31,
     "metadata": {},
     "output_type": "execute_result"
    }
   ],
   "source": [
    "trajectories[\"travel_seq\"].str[4:23]"
   ]
  },
  {
   "cell_type": "code",
   "execution_count": 32,
   "metadata": {},
   "outputs": [],
   "source": [
    "trajectories[\"enter_time\"] = trajectories[\"travel_seq\"].str[4:23]"
   ]
  },
  {
   "cell_type": "code",
   "execution_count": null,
   "metadata": {},
   "outputs": [],
   "source": [
    "trajectories[\"travel_time\"]"
   ]
  },
  {
   "cell_type": "code",
   "execution_count": 58,
   "metadata": {},
   "outputs": [
    {
     "data": {
      "text/plain": [
       "str"
      ]
     },
     "execution_count": 58,
     "metadata": {},
     "output_type": "execute_result"
    }
   ],
   "source": [
    "type(routes[\"tollgate_id\"][0])"
   ]
  },
  {
   "cell_type": "code",
   "execution_count": 92,
   "metadata": {},
   "outputs": [],
   "source": [
    "def mapping(df):\n",
    "    if df[\"intersection_id\"] == 'A' & df[\"tollgate_id\"] == 2:\n",
    "        df[(df[\"link_seq\"])] = \"110,123,107,108,120,117\"\n",
    "    if df[\"intersection_id\"] == 'A' | df[\"tollgate_id\"] == 3:\n",
    "        df[\"link_seq\"] = \"110,123,107,108,119,114,118,122\"\n",
    "    if df[\"intersection_id\"] == 'B' | df[\"tollgate_id\"] == 1:\n",
    "        df[\"link_seq\"] = \"105,100,111,103,116,101,121,106,113\"\n",
    "    if df[\"intersection_id\"] == 'B' | df[\"tollgate_id\"] == 3:\n",
    "        df[\"link_seq\"] = \"105,100,111,103,122\"\n",
    "    if df[\"intersection_id\"] == 'C' | df[\"tollgate_id\"] == 1:\n",
    "        df[\"link_seq\"] = \"115,102,109,104,112,111,103,116,101,121,106,113\"\n",
    "    return df"
   ]
  },
  {
   "cell_type": "code",
   "execution_count": 89,
   "metadata": {},
   "outputs": [
    {
     "data": {
      "text/html": [
       "<div>\n",
       "<style scoped>\n",
       "    .dataframe tbody tr th:only-of-type {\n",
       "        vertical-align: middle;\n",
       "    }\n",
       "\n",
       "    .dataframe tbody tr th {\n",
       "        vertical-align: top;\n",
       "    }\n",
       "\n",
       "    .dataframe thead th {\n",
       "        text-align: right;\n",
       "    }\n",
       "</style>\n",
       "<table border=\"1\" class=\"dataframe\">\n",
       "  <thead>\n",
       "    <tr style=\"text-align: right;\">\n",
       "      <th></th>\n",
       "      <th>intersection_id</th>\n",
       "      <th>tollgate_id</th>\n",
       "      <th>vehicle_id</th>\n",
       "      <th>starting_time</th>\n",
       "      <th>travel_seq</th>\n",
       "      <th>travel_time</th>\n",
       "    </tr>\n",
       "  </thead>\n",
       "  <tbody>\n",
       "    <tr>\n",
       "      <th>0</th>\n",
       "      <td>B</td>\n",
       "      <td>3</td>\n",
       "      <td>1065642</td>\n",
       "      <td>2016-07-19 00:14:24</td>\n",
       "      <td>105#2016-07-19 00:14:24#9.56;100#2016-07-19 00...</td>\n",
       "      <td>70.85</td>\n",
       "    </tr>\n",
       "    <tr>\n",
       "      <th>1</th>\n",
       "      <td>B</td>\n",
       "      <td>3</td>\n",
       "      <td>1047198</td>\n",
       "      <td>2016-07-19 00:35:56</td>\n",
       "      <td>105#2016-07-19 00:35:56#11.58;100#2016-07-19 0...</td>\n",
       "      <td>148.79</td>\n",
       "    </tr>\n",
       "    <tr>\n",
       "      <th>2</th>\n",
       "      <td>B</td>\n",
       "      <td>1</td>\n",
       "      <td>1086390</td>\n",
       "      <td>2016-07-19 00:37:15</td>\n",
       "      <td>105#2016-07-19 00:37:15#5.26;100#2016-07-19 00...</td>\n",
       "      <td>79.76</td>\n",
       "    </tr>\n",
       "    <tr>\n",
       "      <th>3</th>\n",
       "      <td>A</td>\n",
       "      <td>2</td>\n",
       "      <td>1071181</td>\n",
       "      <td>2016-07-19 00:37:59</td>\n",
       "      <td>110#2016-07-19 00:37:59#13.74;123#2016-07-19 0...</td>\n",
       "      <td>58.05</td>\n",
       "    </tr>\n",
       "    <tr>\n",
       "      <th>4</th>\n",
       "      <td>B</td>\n",
       "      <td>1</td>\n",
       "      <td>1065807</td>\n",
       "      <td>2016-07-19 00:56:21</td>\n",
       "      <td>105#2016-07-19 00:56:21#16.08;100#2016-07-19 0...</td>\n",
       "      <td>137.98</td>\n",
       "    </tr>\n",
       "  </tbody>\n",
       "</table>\n",
       "</div>"
      ],
      "text/plain": [
       "  intersection_id  tollgate_id  vehicle_id        starting_time  \\\n",
       "0               B            3     1065642  2016-07-19 00:14:24   \n",
       "1               B            3     1047198  2016-07-19 00:35:56   \n",
       "2               B            1     1086390  2016-07-19 00:37:15   \n",
       "3               A            2     1071181  2016-07-19 00:37:59   \n",
       "4               B            1     1065807  2016-07-19 00:56:21   \n",
       "\n",
       "                                          travel_seq  travel_time  \n",
       "0  105#2016-07-19 00:14:24#9.56;100#2016-07-19 00...        70.85  \n",
       "1  105#2016-07-19 00:35:56#11.58;100#2016-07-19 0...       148.79  \n",
       "2  105#2016-07-19 00:37:15#5.26;100#2016-07-19 00...        79.76  \n",
       "3  110#2016-07-19 00:37:59#13.74;123#2016-07-19 0...        58.05  \n",
       "4  105#2016-07-19 00:56:21#16.08;100#2016-07-19 0...       137.98  "
      ]
     },
     "execution_count": 89,
     "metadata": {},
     "output_type": "execute_result"
    }
   ],
   "source": [
    "trajectories.head()"
   ]
  },
  {
   "cell_type": "code",
   "execution_count": null,
   "metadata": {},
   "outputs": [],
   "source": []
  },
  {
   "cell_type": "code",
   "execution_count": null,
   "metadata": {},
   "outputs": [],
   "source": []
  }
 ],
 "metadata": {
  "kernelspec": {
   "display_name": "myEnv3",
   "language": "python",
   "name": "myenv3"
  },
  "language_info": {
   "codemirror_mode": {
    "name": "ipython",
    "version": 3
   },
   "file_extension": ".py",
   "mimetype": "text/x-python",
   "name": "python",
   "nbconvert_exporter": "python",
   "pygments_lexer": "ipython3",
   "version": "3.6.8"
  }
 },
 "nbformat": 4,
 "nbformat_minor": 2
}
