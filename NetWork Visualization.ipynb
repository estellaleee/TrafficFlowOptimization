{
 "cells": [
  {
   "cell_type": "code",
   "execution_count": 1,
   "metadata": {},
   "outputs": [],
   "source": [
    "import pandas as pd\n",
    "import numpy as np\n",
    "import matplotlib.pyplot as plt\n",
    "import seaborn as sns\n",
    "import warnings\n",
    "# warnings.filterwarnings(\"ignore\")\n",
    "\n",
    "%matplotlib inline"
   ]
  },
  {
   "cell_type": "code",
   "execution_count": 2,
   "metadata": {},
   "outputs": [
    {
     "name": "stdout",
     "output_type": "stream",
     "text": [
      "links (table 3).csv                volume(table 6)_training.csv\r\n",
      "routes (table 4).csv               weather (table 7)_training.csv\r\n",
      "trajectories(table 5)_training.csv\r\n"
     ]
    }
   ],
   "source": [
    "!ls dataSets/training"
   ]
  },
  {
   "cell_type": "code",
   "execution_count": 169,
   "metadata": {},
   "outputs": [],
   "source": [
    "training_path1 = \"dataSets/training/\"\n",
    "links = pd.read_csv(training_path1+'links (table 3).csv')\n",
    "volume = pd.read_csv(training_path1+'volume(table 6)_training.csv')\n",
    "routes = pd.read_csv(training_path1+'routes (table 4).csv')\n",
    "weather = pd.read_csv(training_path1+'weather (table 7)_training.csv')\n",
    "trajectories = pd.read_csv(training_path1+'trajectories(table 5)_training.csv')"
   ]
  },
  {
   "cell_type": "code",
   "execution_count": 39,
   "metadata": {},
   "outputs": [
    {
     "name": "stdout",
     "output_type": "stream",
     "text": [
      "(24, 7)\n",
      "<class 'pandas.core.frame.DataFrame'>\n",
      "RangeIndex: 24 entries, 0 to 23\n",
      "Data columns (total 7 columns):\n",
      "link_id       24 non-null int64\n",
      "length        24 non-null int64\n",
      "width         24 non-null int64\n",
      "lanes         24 non-null int64\n",
      "in_top        21 non-null object\n",
      "out_top       21 non-null object\n",
      "lane_width    24 non-null int64\n",
      "dtypes: int64(5), object(2)\n",
      "memory usage: 1.4+ KB\n",
      "None\n"
     ]
    },
    {
     "data": {
      "text/html": [
       "<div>\n",
       "<style scoped>\n",
       "    .dataframe tbody tr th:only-of-type {\n",
       "        vertical-align: middle;\n",
       "    }\n",
       "\n",
       "    .dataframe tbody tr th {\n",
       "        vertical-align: top;\n",
       "    }\n",
       "\n",
       "    .dataframe thead th {\n",
       "        text-align: right;\n",
       "    }\n",
       "</style>\n",
       "<table border=\"1\" class=\"dataframe\">\n",
       "  <thead>\n",
       "    <tr style=\"text-align: right;\">\n",
       "      <th></th>\n",
       "      <th>link_id</th>\n",
       "      <th>length</th>\n",
       "      <th>width</th>\n",
       "      <th>lanes</th>\n",
       "      <th>in_top</th>\n",
       "      <th>out_top</th>\n",
       "      <th>lane_width</th>\n",
       "    </tr>\n",
       "  </thead>\n",
       "  <tbody>\n",
       "    <tr>\n",
       "      <th>0</th>\n",
       "      <td>100</td>\n",
       "      <td>58</td>\n",
       "      <td>3</td>\n",
       "      <td>1</td>\n",
       "      <td>105</td>\n",
       "      <td>111</td>\n",
       "      <td>3</td>\n",
       "    </tr>\n",
       "    <tr>\n",
       "      <th>1</th>\n",
       "      <td>101</td>\n",
       "      <td>84</td>\n",
       "      <td>3</td>\n",
       "      <td>1</td>\n",
       "      <td>116</td>\n",
       "      <td>121</td>\n",
       "      <td>3</td>\n",
       "    </tr>\n",
       "    <tr>\n",
       "      <th>2</th>\n",
       "      <td>102</td>\n",
       "      <td>131</td>\n",
       "      <td>9</td>\n",
       "      <td>3</td>\n",
       "      <td>115</td>\n",
       "      <td>109</td>\n",
       "      <td>3</td>\n",
       "    </tr>\n",
       "    <tr>\n",
       "      <th>3</th>\n",
       "      <td>103</td>\n",
       "      <td>23</td>\n",
       "      <td>12</td>\n",
       "      <td>4</td>\n",
       "      <td>111</td>\n",
       "      <td>122,116</td>\n",
       "      <td>3</td>\n",
       "    </tr>\n",
       "    <tr>\n",
       "      <th>4</th>\n",
       "      <td>104</td>\n",
       "      <td>293</td>\n",
       "      <td>9</td>\n",
       "      <td>3</td>\n",
       "      <td>109</td>\n",
       "      <td>112</td>\n",
       "      <td>3</td>\n",
       "    </tr>\n",
       "  </tbody>\n",
       "</table>\n",
       "</div>"
      ],
      "text/plain": [
       "   link_id  length  width  lanes in_top  out_top  lane_width\n",
       "0      100      58      3      1    105      111           3\n",
       "1      101      84      3      1    116      121           3\n",
       "2      102     131      9      3    115      109           3\n",
       "3      103      23     12      4    111  122,116           3\n",
       "4      104     293      9      3    109      112           3"
      ]
     },
     "execution_count": 39,
     "metadata": {},
     "output_type": "execute_result"
    }
   ],
   "source": [
    "training_path1 = \"dataSets/training/\"\n",
    "links = pd.read_csv(training_path1+'links (table 3).csv')\n",
    "print(links.shape)\n",
    "print(links.info())\n",
    "links.head()"
   ]
  },
  {
   "cell_type": "code",
   "execution_count": 40,
   "metadata": {},
   "outputs": [
    {
     "data": {
      "text/plain": [
       "dict_items([(100, ('100s', '100e')), (101, ('101s', '101e')), (102, ('102s', '102e')), (103, ('103s', '103e')), (104, ('104s', '104e')), (105, ('105s', '105e')), (106, ('106s', '106e')), (107, ('107s', '107e')), (108, ('108s', '108e')), (109, ('109s', '109e')), (110, ('110s', '110e')), (111, ('111s', '111e')), (112, ('112s', '112e')), (113, ('113s', '113e')), (114, ('114s', '114e')), (115, ('115s', '115e')), (116, ('116s', '116e')), (117, ('117s', '117e')), (118, ('118s', '118e')), (119, ('119s', '119e')), (120, ('120s', '120e')), (121, ('121s', '121e')), (122, ('122s', '122e')), (123, ('123s', '123e'))])"
      ]
     },
     "execution_count": 40,
     "metadata": {},
     "output_type": "execute_result"
    }
   ],
   "source": [
    "my_dict = {i:(str(i)+'s', str(i)+'e') for i in links['link_id']}\n",
    "my_dict.items()"
   ]
  },
  {
   "cell_type": "code",
   "execution_count": 41,
   "metadata": {},
   "outputs": [],
   "source": [
    "links['link_id'] = [my_dict.get(i) for i in links['link_id']] "
   ]
  },
  {
   "cell_type": "code",
   "execution_count": 42,
   "metadata": {},
   "outputs": [
    {
     "data": {
      "text/html": [
       "<div>\n",
       "<style scoped>\n",
       "    .dataframe tbody tr th:only-of-type {\n",
       "        vertical-align: middle;\n",
       "    }\n",
       "\n",
       "    .dataframe tbody tr th {\n",
       "        vertical-align: top;\n",
       "    }\n",
       "\n",
       "    .dataframe thead th {\n",
       "        text-align: right;\n",
       "    }\n",
       "</style>\n",
       "<table border=\"1\" class=\"dataframe\">\n",
       "  <thead>\n",
       "    <tr style=\"text-align: right;\">\n",
       "      <th></th>\n",
       "      <th>link_id</th>\n",
       "      <th>length</th>\n",
       "      <th>width</th>\n",
       "      <th>lanes</th>\n",
       "      <th>in_top</th>\n",
       "      <th>out_top</th>\n",
       "      <th>lane_width</th>\n",
       "    </tr>\n",
       "  </thead>\n",
       "  <tbody>\n",
       "    <tr>\n",
       "      <th>0</th>\n",
       "      <td>(100s, 100e)</td>\n",
       "      <td>58</td>\n",
       "      <td>3</td>\n",
       "      <td>1</td>\n",
       "      <td>105</td>\n",
       "      <td>111</td>\n",
       "      <td>3</td>\n",
       "    </tr>\n",
       "    <tr>\n",
       "      <th>1</th>\n",
       "      <td>(101s, 101e)</td>\n",
       "      <td>84</td>\n",
       "      <td>3</td>\n",
       "      <td>1</td>\n",
       "      <td>116</td>\n",
       "      <td>121</td>\n",
       "      <td>3</td>\n",
       "    </tr>\n",
       "    <tr>\n",
       "      <th>2</th>\n",
       "      <td>(102s, 102e)</td>\n",
       "      <td>131</td>\n",
       "      <td>9</td>\n",
       "      <td>3</td>\n",
       "      <td>115</td>\n",
       "      <td>109</td>\n",
       "      <td>3</td>\n",
       "    </tr>\n",
       "    <tr>\n",
       "      <th>3</th>\n",
       "      <td>(103s, 103e)</td>\n",
       "      <td>23</td>\n",
       "      <td>12</td>\n",
       "      <td>4</td>\n",
       "      <td>111</td>\n",
       "      <td>122,116</td>\n",
       "      <td>3</td>\n",
       "    </tr>\n",
       "    <tr>\n",
       "      <th>4</th>\n",
       "      <td>(104s, 104e)</td>\n",
       "      <td>293</td>\n",
       "      <td>9</td>\n",
       "      <td>3</td>\n",
       "      <td>109</td>\n",
       "      <td>112</td>\n",
       "      <td>3</td>\n",
       "    </tr>\n",
       "  </tbody>\n",
       "</table>\n",
       "</div>"
      ],
      "text/plain": [
       "        link_id  length  width  lanes in_top  out_top  lane_width\n",
       "0  (100s, 100e)      58      3      1    105      111           3\n",
       "1  (101s, 101e)      84      3      1    116      121           3\n",
       "2  (102s, 102e)     131      9      3    115      109           3\n",
       "3  (103s, 103e)      23     12      4    111  122,116           3\n",
       "4  (104s, 104e)     293      9      3    109      112           3"
      ]
     },
     "execution_count": 42,
     "metadata": {},
     "output_type": "execute_result"
    }
   ],
   "source": [
    "links.head()"
   ]
  },
  {
   "cell_type": "code",
   "execution_count": 43,
   "metadata": {},
   "outputs": [
    {
     "name": "stdout",
     "output_type": "stream",
     "text": [
      "(6, 3)\n",
      "<class 'pandas.core.frame.DataFrame'>\n",
      "RangeIndex: 6 entries, 0 to 5\n",
      "Data columns (total 3 columns):\n",
      "intersection_id    6 non-null object\n",
      "tollgate_id        6 non-null int64\n",
      "link_seq           6 non-null object\n",
      "dtypes: int64(1), object(2)\n",
      "memory usage: 224.0+ bytes\n",
      "None\n"
     ]
    },
    {
     "data": {
      "text/html": [
       "<div>\n",
       "<style scoped>\n",
       "    .dataframe tbody tr th:only-of-type {\n",
       "        vertical-align: middle;\n",
       "    }\n",
       "\n",
       "    .dataframe tbody tr th {\n",
       "        vertical-align: top;\n",
       "    }\n",
       "\n",
       "    .dataframe thead th {\n",
       "        text-align: right;\n",
       "    }\n",
       "</style>\n",
       "<table border=\"1\" class=\"dataframe\">\n",
       "  <thead>\n",
       "    <tr style=\"text-align: right;\">\n",
       "      <th></th>\n",
       "      <th>intersection_id</th>\n",
       "      <th>tollgate_id</th>\n",
       "      <th>link_seq</th>\n",
       "    </tr>\n",
       "  </thead>\n",
       "  <tbody>\n",
       "    <tr>\n",
       "      <th>0</th>\n",
       "      <td>A</td>\n",
       "      <td>2</td>\n",
       "      <td>110,123,107,108,120,117</td>\n",
       "    </tr>\n",
       "    <tr>\n",
       "      <th>1</th>\n",
       "      <td>A</td>\n",
       "      <td>3</td>\n",
       "      <td>110,123,107,108,119,114,118,122</td>\n",
       "    </tr>\n",
       "    <tr>\n",
       "      <th>2</th>\n",
       "      <td>B</td>\n",
       "      <td>1</td>\n",
       "      <td>105,100,111,103,116,101,121,106,113</td>\n",
       "    </tr>\n",
       "    <tr>\n",
       "      <th>3</th>\n",
       "      <td>B</td>\n",
       "      <td>3</td>\n",
       "      <td>105,100,111,103,122</td>\n",
       "    </tr>\n",
       "    <tr>\n",
       "      <th>4</th>\n",
       "      <td>C</td>\n",
       "      <td>1</td>\n",
       "      <td>115,102,109,104,112,111,103,116,101,121,106,113</td>\n",
       "    </tr>\n",
       "    <tr>\n",
       "      <th>5</th>\n",
       "      <td>C</td>\n",
       "      <td>3</td>\n",
       "      <td>115,102,109,104,112,111,103,122</td>\n",
       "    </tr>\n",
       "  </tbody>\n",
       "</table>\n",
       "</div>"
      ],
      "text/plain": [
       "  intersection_id  tollgate_id  \\\n",
       "0               A            2   \n",
       "1               A            3   \n",
       "2               B            1   \n",
       "3               B            3   \n",
       "4               C            1   \n",
       "5               C            3   \n",
       "\n",
       "                                          link_seq  \n",
       "0                          110,123,107,108,120,117  \n",
       "1                  110,123,107,108,119,114,118,122  \n",
       "2              105,100,111,103,116,101,121,106,113  \n",
       "3                              105,100,111,103,122  \n",
       "4  115,102,109,104,112,111,103,116,101,121,106,113  \n",
       "5                  115,102,109,104,112,111,103,122  "
      ]
     },
     "execution_count": 43,
     "metadata": {},
     "output_type": "execute_result"
    }
   ],
   "source": [
    "routes = pd.read_csv(training_path1+'routes (table 4).csv')\n",
    "print(routes.shape)\n",
    "print(routes.info())\n",
    "routes"
   ]
  },
  {
   "cell_type": "code",
   "execution_count": 44,
   "metadata": {},
   "outputs": [],
   "source": [
    "# Make tollgate_id string to simplify processing later\n",
    "\n",
    "routes['tollgate_id'] = routes.tollgate_id.astype(str)"
   ]
  },
  {
   "cell_type": "code",
   "execution_count": 45,
   "metadata": {},
   "outputs": [],
   "source": [
    "for i in range(len(routes['link_seq'])):\n",
    "    routes['link_seq'][i] = routes['link_seq'][i].split(',')"
   ]
  },
  {
   "cell_type": "code",
   "execution_count": 46,
   "metadata": {},
   "outputs": [
    {
     "data": {
      "text/html": [
       "<div>\n",
       "<style scoped>\n",
       "    .dataframe tbody tr th:only-of-type {\n",
       "        vertical-align: middle;\n",
       "    }\n",
       "\n",
       "    .dataframe tbody tr th {\n",
       "        vertical-align: top;\n",
       "    }\n",
       "\n",
       "    .dataframe thead th {\n",
       "        text-align: right;\n",
       "    }\n",
       "</style>\n",
       "<table border=\"1\" class=\"dataframe\">\n",
       "  <thead>\n",
       "    <tr style=\"text-align: right;\">\n",
       "      <th></th>\n",
       "      <th>intersection_id</th>\n",
       "      <th>tollgate_id</th>\n",
       "      <th>link_seq</th>\n",
       "    </tr>\n",
       "  </thead>\n",
       "  <tbody>\n",
       "    <tr>\n",
       "      <th>0</th>\n",
       "      <td>A</td>\n",
       "      <td>2</td>\n",
       "      <td>[110, 123, 107, 108, 120, 117]</td>\n",
       "    </tr>\n",
       "    <tr>\n",
       "      <th>1</th>\n",
       "      <td>A</td>\n",
       "      <td>3</td>\n",
       "      <td>[110, 123, 107, 108, 119, 114, 118, 122]</td>\n",
       "    </tr>\n",
       "    <tr>\n",
       "      <th>2</th>\n",
       "      <td>B</td>\n",
       "      <td>1</td>\n",
       "      <td>[105, 100, 111, 103, 116, 101, 121, 106, 113]</td>\n",
       "    </tr>\n",
       "    <tr>\n",
       "      <th>3</th>\n",
       "      <td>B</td>\n",
       "      <td>3</td>\n",
       "      <td>[105, 100, 111, 103, 122]</td>\n",
       "    </tr>\n",
       "    <tr>\n",
       "      <th>4</th>\n",
       "      <td>C</td>\n",
       "      <td>1</td>\n",
       "      <td>[115, 102, 109, 104, 112, 111, 103, 116, 101, ...</td>\n",
       "    </tr>\n",
       "    <tr>\n",
       "      <th>5</th>\n",
       "      <td>C</td>\n",
       "      <td>3</td>\n",
       "      <td>[115, 102, 109, 104, 112, 111, 103, 122]</td>\n",
       "    </tr>\n",
       "  </tbody>\n",
       "</table>\n",
       "</div>"
      ],
      "text/plain": [
       "  intersection_id tollgate_id  \\\n",
       "0               A           2   \n",
       "1               A           3   \n",
       "2               B           1   \n",
       "3               B           3   \n",
       "4               C           1   \n",
       "5               C           3   \n",
       "\n",
       "                                            link_seq  \n",
       "0                     [110, 123, 107, 108, 120, 117]  \n",
       "1           [110, 123, 107, 108, 119, 114, 118, 122]  \n",
       "2      [105, 100, 111, 103, 116, 101, 121, 106, 113]  \n",
       "3                          [105, 100, 111, 103, 122]  \n",
       "4  [115, 102, 109, 104, 112, 111, 103, 116, 101, ...  \n",
       "5           [115, 102, 109, 104, 112, 111, 103, 122]  "
      ]
     },
     "execution_count": 46,
     "metadata": {},
     "output_type": "execute_result"
    }
   ],
   "source": [
    "routes"
   ]
  },
  {
   "cell_type": "code",
   "execution_count": 47,
   "metadata": {},
   "outputs": [],
   "source": [
    "e_or_s = {0:'s', 1:'e'}\n",
    "arr_list = []\n",
    "for i in range(len(routes['link_seq'])):\n",
    "    arr_list.append(['arr_' + str(i)])\n",
    "\n",
    "for i,j in enumerate(routes['link_seq']):\n",
    "    arr_list[i] = []\n",
    "    for idx in range(len(j)):\n",
    "        arr_list[i].append(j[idx]+ 's')\n",
    "        arr_list[i].append(j[idx]+ 'e')\n",
    "        \n",
    "for i in range(len(routes['link_seq'])):\n",
    "    routes['link_seq'][i] = arr_list[i]\n",
    "\n",
    "routes"
   ]
  },
  {
   "cell_type": "code",
   "execution_count": 50,
   "metadata": {},
   "outputs": [
    {
     "data": {
      "text/html": [
       "<div>\n",
       "<style scoped>\n",
       "    .dataframe tbody tr th:only-of-type {\n",
       "        vertical-align: middle;\n",
       "    }\n",
       "\n",
       "    .dataframe tbody tr th {\n",
       "        vertical-align: top;\n",
       "    }\n",
       "\n",
       "    .dataframe thead th {\n",
       "        text-align: right;\n",
       "    }\n",
       "</style>\n",
       "<table border=\"1\" class=\"dataframe\">\n",
       "  <thead>\n",
       "    <tr style=\"text-align: right;\">\n",
       "      <th></th>\n",
       "      <th>intersection_id</th>\n",
       "      <th>tollgate_id</th>\n",
       "      <th>link_seq</th>\n",
       "    </tr>\n",
       "  </thead>\n",
       "  <tbody>\n",
       "    <tr>\n",
       "      <th>0</th>\n",
       "      <td>A</td>\n",
       "      <td>2</td>\n",
       "      <td>[A, 110s, 110e, 123s, 123e, 107s, 107e, 108s, ...</td>\n",
       "    </tr>\n",
       "    <tr>\n",
       "      <th>1</th>\n",
       "      <td>A</td>\n",
       "      <td>3</td>\n",
       "      <td>[A, 110s, 110e, 123s, 123e, 107s, 107e, 108s, ...</td>\n",
       "    </tr>\n",
       "    <tr>\n",
       "      <th>2</th>\n",
       "      <td>B</td>\n",
       "      <td>1</td>\n",
       "      <td>[B, 105s, 105e, 100s, 100e, 111s, 111e, 103s, ...</td>\n",
       "    </tr>\n",
       "    <tr>\n",
       "      <th>3</th>\n",
       "      <td>B</td>\n",
       "      <td>3</td>\n",
       "      <td>[B, 105s, 105e, 100s, 100e, 111s, 111e, 103s, ...</td>\n",
       "    </tr>\n",
       "    <tr>\n",
       "      <th>4</th>\n",
       "      <td>C</td>\n",
       "      <td>1</td>\n",
       "      <td>[C, 115s, 115e, 102s, 102e, 109s, 109e, 104s, ...</td>\n",
       "    </tr>\n",
       "    <tr>\n",
       "      <th>5</th>\n",
       "      <td>C</td>\n",
       "      <td>3</td>\n",
       "      <td>[C, 115s, 115e, 102s, 102e, 109s, 109e, 104s, ...</td>\n",
       "    </tr>\n",
       "  </tbody>\n",
       "</table>\n",
       "</div>"
      ],
      "text/plain": [
       "  intersection_id tollgate_id  \\\n",
       "0               A           2   \n",
       "1               A           3   \n",
       "2               B           1   \n",
       "3               B           3   \n",
       "4               C           1   \n",
       "5               C           3   \n",
       "\n",
       "                                            link_seq  \n",
       "0  [A, 110s, 110e, 123s, 123e, 107s, 107e, 108s, ...  \n",
       "1  [A, 110s, 110e, 123s, 123e, 107s, 107e, 108s, ...  \n",
       "2  [B, 105s, 105e, 100s, 100e, 111s, 111e, 103s, ...  \n",
       "3  [B, 105s, 105e, 100s, 100e, 111s, 111e, 103s, ...  \n",
       "4  [C, 115s, 115e, 102s, 102e, 109s, 109e, 104s, ...  \n",
       "5  [C, 115s, 115e, 102s, 102e, 109s, 109e, 104s, ...  "
      ]
     },
     "execution_count": 50,
     "metadata": {},
     "output_type": "execute_result"
    }
   ],
   "source": [
    "link_seq2 = []\n",
    "for i, row in routes.iterrows():\n",
    "    new_seq = [row[0]] + row[2] + [row[1]]\n",
    "    link_seq2.append(new_seq)\n",
    "    \n",
    "routes['link_seq'] = link_seq2\n",
    "routes"
   ]
  },
  {
   "cell_type": "code",
   "execution_count": 59,
   "metadata": {},
   "outputs": [
    {
     "data": {
      "text/html": [
       "<div>\n",
       "<style scoped>\n",
       "    .dataframe tbody tr th:only-of-type {\n",
       "        vertical-align: middle;\n",
       "    }\n",
       "\n",
       "    .dataframe tbody tr th {\n",
       "        vertical-align: top;\n",
       "    }\n",
       "\n",
       "    .dataframe thead th {\n",
       "        text-align: right;\n",
       "    }\n",
       "</style>\n",
       "<table border=\"1\" class=\"dataframe\">\n",
       "  <thead>\n",
       "    <tr style=\"text-align: right;\">\n",
       "      <th></th>\n",
       "      <th>intersection_id</th>\n",
       "      <th>tollgate_id</th>\n",
       "      <th>link_seq</th>\n",
       "    </tr>\n",
       "  </thead>\n",
       "  <tbody>\n",
       "    <tr>\n",
       "      <th>0</th>\n",
       "      <td>A</td>\n",
       "      <td>2</td>\n",
       "      <td>[A_110s, 110e_123s, 123e_107s, 107e_108s, 108e...</td>\n",
       "    </tr>\n",
       "    <tr>\n",
       "      <th>1</th>\n",
       "      <td>A</td>\n",
       "      <td>3</td>\n",
       "      <td>[A_110s, 110e_123s, 123e_107s, 107e_108s, 108e...</td>\n",
       "    </tr>\n",
       "    <tr>\n",
       "      <th>2</th>\n",
       "      <td>B</td>\n",
       "      <td>1</td>\n",
       "      <td>[B_105s, 105e_100s, 100e_111s, 111e_103s, 103e...</td>\n",
       "    </tr>\n",
       "    <tr>\n",
       "      <th>3</th>\n",
       "      <td>B</td>\n",
       "      <td>3</td>\n",
       "      <td>[B_105s, 105e_100s, 100e_111s, 111e_103s, 103e...</td>\n",
       "    </tr>\n",
       "    <tr>\n",
       "      <th>4</th>\n",
       "      <td>C</td>\n",
       "      <td>1</td>\n",
       "      <td>[C_115s, 115e_102s, 102e_109s, 109e_104s, 104e...</td>\n",
       "    </tr>\n",
       "    <tr>\n",
       "      <th>5</th>\n",
       "      <td>C</td>\n",
       "      <td>3</td>\n",
       "      <td>[C_115s, 115e_102s, 102e_109s, 109e_104s, 104e...</td>\n",
       "    </tr>\n",
       "  </tbody>\n",
       "</table>\n",
       "</div>"
      ],
      "text/plain": [
       "  intersection_id tollgate_id  \\\n",
       "0               A           2   \n",
       "1               A           3   \n",
       "2               B           1   \n",
       "3               B           3   \n",
       "4               C           1   \n",
       "5               C           3   \n",
       "\n",
       "                                            link_seq  \n",
       "0  [A_110s, 110e_123s, 123e_107s, 107e_108s, 108e...  \n",
       "1  [A_110s, 110e_123s, 123e_107s, 107e_108s, 108e...  \n",
       "2  [B_105s, 105e_100s, 100e_111s, 111e_103s, 103e...  \n",
       "3  [B_105s, 105e_100s, 100e_111s, 111e_103s, 103e...  \n",
       "4  [C_115s, 115e_102s, 102e_109s, 109e_104s, 104e...  \n",
       "5  [C_115s, 115e_102s, 102e_109s, 109e_104s, 104e...  "
      ]
     },
     "execution_count": 59,
     "metadata": {},
     "output_type": "execute_result"
    }
   ],
   "source": [
    "def bubble(link_seq):\n",
    "    new_seq = []\n",
    "    for i in np.arange(0, len(link_seq), 2):\n",
    "        new_str = '_'.join((link_seq[i],link_seq[i+1]))\n",
    "        new_seq.append(new_str)\n",
    "    return new_seq\n",
    "\n",
    "routes['link_seq']= routes.link_seq.apply(lambda x: bubble(x))\n",
    "routes     "
   ]
  },
  {
   "cell_type": "code",
   "execution_count": 150,
   "metadata": {},
   "outputs": [
    {
     "name": "stdout",
     "output_type": "stream",
     "text": [
      "(48, 2)\n"
     ]
    },
    {
     "data": {
      "text/html": [
       "<div>\n",
       "<style scoped>\n",
       "    .dataframe tbody tr th:only-of-type {\n",
       "        vertical-align: middle;\n",
       "    }\n",
       "\n",
       "    .dataframe tbody tr th {\n",
       "        vertical-align: top;\n",
       "    }\n",
       "\n",
       "    .dataframe thead th {\n",
       "        text-align: right;\n",
       "    }\n",
       "</style>\n",
       "<table border=\"1\" class=\"dataframe\">\n",
       "  <thead>\n",
       "    <tr style=\"text-align: right;\">\n",
       "      <th></th>\n",
       "      <th>curr</th>\n",
       "      <th>next</th>\n",
       "    </tr>\n",
       "  </thead>\n",
       "  <tbody>\n",
       "    <tr>\n",
       "      <th>0</th>\n",
       "      <td>A_110s</td>\n",
       "      <td>110e_123s</td>\n",
       "    </tr>\n",
       "    <tr>\n",
       "      <th>1</th>\n",
       "      <td>110e_123s</td>\n",
       "      <td>123e_107s</td>\n",
       "    </tr>\n",
       "    <tr>\n",
       "      <th>2</th>\n",
       "      <td>123e_107s</td>\n",
       "      <td>107e_108s</td>\n",
       "    </tr>\n",
       "    <tr>\n",
       "      <th>3</th>\n",
       "      <td>107e_108s</td>\n",
       "      <td>108e_120s</td>\n",
       "    </tr>\n",
       "    <tr>\n",
       "      <th>4</th>\n",
       "      <td>108e_120s</td>\n",
       "      <td>120e_117s</td>\n",
       "    </tr>\n",
       "  </tbody>\n",
       "</table>\n",
       "</div>"
      ],
      "text/plain": [
       "        curr       next\n",
       "0     A_110s  110e_123s\n",
       "1  110e_123s  123e_107s\n",
       "2  123e_107s  107e_108s\n",
       "3  107e_108s  108e_120s\n",
       "4  108e_120s  120e_117s"
      ]
     },
     "execution_count": 150,
     "metadata": {},
     "output_type": "execute_result"
    }
   ],
   "source": [
    "\n",
    "directions = routes.link_seq.apply(lambda x: [[x[i], x[i+1]] \n",
    "                                   for i in range(len(x)-1)])\n",
    "directions = directions.sum()\n",
    "link = pd.DataFrame(directions, columns = ['curr', 'next'])\n",
    "print(link.shape)\n",
    "link.head()"
   ]
  },
  {
   "cell_type": "code",
   "execution_count": 145,
   "metadata": {},
   "outputs": [],
   "source": [
    "nodes = set(link.curr).union(set(link.next))"
   ]
  },
  {
   "cell_type": "code",
   "execution_count": 163,
   "metadata": {},
   "outputs": [
    {
     "name": "stdout",
     "output_type": "stream",
     "text": [
      "{'C_115s', 'B_105s', 'A_110s'}\n",
      "{'122e_3', '113e_1', '117e_2'}\n",
      "23\n"
     ]
    }
   ],
   "source": [
    "start_nodes = set(routes.link_seq.apply(lambda x: x[0]))\n",
    "end_nodes = set(routes.link_seq.apply(lambda x: x[-1]))\n",
    "other_nodes = nodes - (start_nodes.union(end_nodes))\n",
    "print(start_nodes)\n",
    "print(end_nodes)\n",
    "print(len(other_nodes))"
   ]
  },
  {
   "cell_type": "code",
   "execution_count": 148,
   "metadata": {},
   "outputs": [],
   "source": [
    "import networkx as nx \n",
    "\n",
    "Links = nx.DiGraph()\n",
    "Links.add_nodes_from(nodes)\n",
    "# G.add_edges_from(seq_dict)\n",
    "for i in link.index:\n",
    "    Links.add_edge(link.curr[i],link.next[i]) "
   ]
  },
  {
   "cell_type": "code",
   "execution_count": 402,
   "metadata": {},
   "outputs": [
    {
     "data": {
      "text/plain": [
       "<matplotlib.legend.Legend at 0x1a3366f668>"
      ]
     },
     "execution_count": 402,
     "metadata": {},
     "output_type": "execute_result"
    },
    {
     "data": {
      "image/png": "[encoded data removed]",
      "text/plain": [
       "<Figure size 720x720 with 1 Axes>"
      ]
     },
     "metadata": {
      "needs_background": "light"
     },
     "output_type": "display_data"
    }
   ],
   "source": [
    "plt.figure(figsize=(10,10))\n",
    "\n",
    "randomseed = 555\n",
    "pos = nx.spring_layout(Links, k=0.5, seed = randomseed)\n",
    "begin_end_nodes_size = 100\n",
    "other_nodes_size = 10\n",
    "nx.draw_networkx_nodes(Links, nodelist = end_nodes, node_shape = '^', node_color = 'orange', node_size = begin_end_nodes_size, pos=pos, with_labels = False, label = 'Tollgate')\n",
    "nx.draw_networkx_nodes(Links, nodelist = start_nodes, node_shape = 's', node_color = 'green', node_size = begin_end_nodes_size, pos=pos, with_labels = False, label = 'Intersection')\n",
    "nx.draw_networkx_nodes(Links, nodelist = other_nodes, node_shape = 'o', node_color = 'black', node_size = other_nodes_size, pos=pos, with_labels = False)\n",
    "\n",
    "nx.draw_networkx_edges(Links, pos=pos, with_labels = False)\n",
    "\n",
    "\n",
    "plt.legend()\n",
    "# nx.draw_networkx(Links, nodelist = nodes_to_show, node_size = 10, pos=nx.spring_layout(Links, k=0.15), with_labels = False)"
   ]
  },
  {
   "cell_type": "code",
   "execution_count": 403,
   "metadata": {},
   "outputs": [],
   "source": [
    "def normalize_vector(vector):\n",
    "    '''\n",
    "    Normalize an input vector and\n",
    "    return the corresponding unit vector\n",
    "    '''\n",
    "    norm = np.linalg.norm(vector)\n",
    "    unit_vector = np.array(vector/norm)\n",
    "    length = np.sqrt((unit_vector**2).sum()) #saved for testing\n",
    "   \n",
    "    return unit_vector\n",
    "\n",
    "def get_vector(edge, pos):\n",
    "    '''\n",
    "    Find the vector representation of the edge\n",
    "    pos: a dict storing the cooridinates keyed by nodes\n",
    "    '''\n",
    "    start_coord = pos[edge[0]]\n",
    "    end_coord = pos[edge[1]]\n",
    "    return start_coord - end_coord\n",
    "\n",
    "def search_link(edge):\n",
    "    '''\n",
    "    Given an edge from the traffic graph,\n",
    "    return the corresponding link_id\n",
    "    '''\n",
    "    start_node_id = edge[0].split('_')[1][:3]\n",
    "    end_node_id = edge[1].split('_')[0][:3]\n",
    "    if start_node_id == end_node_id:\n",
    "        return int(start_node_id)\n",
    "    else:\n",
    "        print(\"Something wrong!!\")"
   ]
  },
  {
   "cell_type": "code",
   "execution_count": 404,
   "metadata": {},
   "outputs": [
    {
     "data": {
      "text/plain": [
       "{100: array([-54.47523088, -19.91103262]),\n",
       " 101: array([ 77.89987817, -31.4262467 ]),\n",
       " 102: array([104.71259005,  78.71641179]),\n",
       " 103: array([ -1.86457958, -22.92429591]),\n",
       " 104: array([-276.83039755,  -95.98922331]),\n",
       " 105: array([ 10.16327829, -77.33503588]),\n",
       " 106: array([ 0.9380729 , 14.97063857]),\n",
       " 107: array([ -5.25056267, -33.59213586]),\n",
       " 108: array([ 37.40454242, -14.17392699]),\n",
       " 109: array([-133.88151355,  -17.34186638]),\n",
       " 110: array([ 22.26438816, 106.70190729]),\n",
       " 111: array([-89.2319346 ,  81.72308026]),\n",
       " 112: array([-184.81640614,   73.78276237]),\n",
       " 113: array([-38.36411023, 138.79551522]),\n",
       " 114: array([-185.87486066,   68.22416123]),\n",
       " 115: array([  5.65039   , 106.85070469]),\n",
       " 116: array([ 121.89898012, -132.44107613]),\n",
       " 117: array([112.96524506, -75.72881491]),\n",
       " 118: array([-197.20331027,  -59.55547346]),\n",
       " 119: array([ 0.32853036, -8.99400177]),\n",
       " 120: array([ 5.21879101, -2.9604426 ]),\n",
       " 121: array([107.88822356, -47.79258539]),\n",
       " 122: array([ -46.58377622, -191.41303977]),\n",
       " 123: array([-58.99881471,   0.37398172])}"
      ]
     },
     "execution_count": 404,
     "metadata": {},
     "output_type": "execute_result"
    }
   ],
   "source": [
    "# store unit vector of links, keyed by link_id\n",
    "uv_dict = dict()\n",
    "for edge in Links.edges:\n",
    "    link_id = search_link(edge)\n",
    "    uv_dict[link_id] = normalize_vector(get_vector(edge, pos))\n",
    "\n",
    "# add the unit vector column to links dataframe\n",
    "links['unit_vector'] = links.link_id.apply(lambda x: uv_dict[x])\n",
    "links['true_vector'] = links.length * links.unit_vector\n",
    "\n",
    "tv_dict = dict(zip(links.link_id, links.true_vector))\n",
    "tv_dict"
   ]
  },
  {
   "cell_type": "code",
   "execution_count": 405,
   "metadata": {},
   "outputs": [],
   "source": [
    "def dfs_addcoords(graph, tv_vectors, cur_node, pre_node = None, coords = {}):\n",
    "    if pre_node == None:\n",
    "        coords[cur_node] = np.array([0,0])\n",
    "    else:\n",
    "        link_id = int(pre_node.split('_')[1][:3])\n",
    "        try:\n",
    "            coords[cur_node] = coords[pre_node] + tv_vectors[link_id]\n",
    "        except KeyError:\n",
    "            link_id = int(pre_node.split('_')[0][:3])\n",
    "            coords[cur_node] = coords[pre_node] + tv_vectors[link_id]\n",
    "    for neighbor in graph.neighbors(cur_node):\n",
    "        if neighbor not in coords:\n",
    "            coords = dfs_addcoords(graph, tv_vectors, neighbor, cur_node, coords)\n",
    "\n",
    "    return coords"
   ]
  },
  {
   "cell_type": "code",
   "execution_count": 418,
   "metadata": {},
   "outputs": [
    {
     "name": "stdout",
     "output_type": "stream",
     "text": [
      "{'115e_102s': {}}\n",
      "{'105e_100s': {}}\n",
      "{'110e_123s': {}}\n"
     ]
    },
    {
     "data": {
      "text/plain": [
       "{'C_115s': array([-1108.99365739,  -417.28773831]),\n",
       " 'B_105s': array([-672.65316109, -476.36685542]),\n",
       " 'A_110s': array([0, 0])}"
      ]
     },
     "execution_count": 418,
     "metadata": {},
     "output_type": "execute_result"
    }
   ],
   "source": [
    "label_pos = {}\n",
    "for node in start_nodes:\n",
    "    label_pos[node] = pos[node]\n",
    "    print(Links[node])\n",
    "label_pos"
   ]
  },
  {
   "cell_type": "code",
   "execution_count": 416,
   "metadata": {},
   "outputs": [
    {
     "data": {
      "text/plain": [
       "<networkx.classes.digraph.DiGraph at 0x1a22780278>"
      ]
     },
     "execution_count": 416,
     "metadata": {},
     "output_type": "execute_result"
    }
   ],
   "source": [
    "Links"
   ]
  },
  {
   "cell_type": "code",
   "execution_count": 422,
   "metadata": {},
   "outputs": [
    {
     "data": {
      "text/plain": [
       "<matplotlib.legend.Legend at 0x1a3477cc50>"
      ]
     },
     "execution_count": 422,
     "metadata": {},
     "output_type": "execute_result"
    },
    {
     "data": {
      "image/png": "[encoded data removed]",
      "text/plain": [
       "<Figure size 720x720 with 1 Axes>"
      ]
     },
     "metadata": {
      "needs_background": "light"
     },
     "output_type": "display_data"
    }
   ],
   "source": [
    "# New Graph with length of edges reflect the true relative length of links\n",
    "from matplotlib.patches import ConnectionStyle\n",
    "\n",
    "plt.figure(figsize=(10,10))\n",
    "randomseed = 4\n",
    "start_node = 'A_110s'\n",
    "\n",
    "pos = dfs_addcoords(G, tv_dict, start_node)\n",
    "other_nodes_size = 10\n",
    "nx.draw_networkx_nodes(Links, nodelist = end_nodes, node_shape = '^', node_color = 'orange', node_size = begin_end_nodes_size, pos=pos, with_labels = False, label = 'Tollgate')\n",
    "nx.draw_networkx_nodes(Links, nodelist = start_nodes, node_shape = 's', node_color = 'green', node_size = begin_end_nodes_size, pos=pos, with_labels = False, label = 'Intersection')\n",
    "nx.draw_networkx_nodes(Links, nodelist = other_nodes, node_shape = 'o', node_color = 'black', node_size = other_nodes_size, pos=pos, with_labels = False)\n",
    "# nx.draw_networkx_labels(nx.Graph(label_pos), pos=label_pos)\n",
    "nx.draw_networkx_edges(Links, pos=pos, arrowsize=10, arrowstyle = '-|>', connectionstyle = ConnectionStyle(\"Arc3, rad=0.01\"),with_labels = False)\n",
    "\n",
    "\n",
    "plt.legend()"
   ]
  },
  {
   "cell_type": "code",
   "execution_count": null,
   "metadata": {},
   "outputs": [],
   "source": []
  },
  {
   "cell_type": "code",
   "execution_count": null,
   "metadata": {},
   "outputs": [],
   "source": []
  }
 ],
 "metadata": {
  "kernelspec": {
   "display_name": "Python 3",
   "language": "python",
   "name": "python3"
  },
  "language_info": {
   "codemirror_mode": {
    "name": "ipython",
    "version": 3
   },
   "file_extension": ".py",
   "mimetype": "text/x-python",
   "name": "python",
   "nbconvert_exporter": "python",
   "pygments_lexer": "ipython3",
   "version": "3.6.8"
  }
 },
 "nbformat": 4,
 "nbformat_minor": 2
}
